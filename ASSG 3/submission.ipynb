{
 "cells": [
  {
   "cell_type": "code",
   "execution_count": 13,
   "id": "36ec1488",
   "metadata": {},
   "outputs": [],
   "source": [
    "import cv2\n",
    "import numpy as np\n",
    "import matplotlib.pyplot as plt\n",
    "%matplotlib inline"
   ]
  },
  {
   "cell_type": "code",
   "execution_count": 14,
   "id": "84213f22",
   "metadata": {},
   "outputs": [],
   "source": [
    "#Sobel Filter from Q1\n",
    "def sobel(gray):\n",
    "    ret, binary = cv2.threshold(gray, 127, 255, cv2.THRESH_BINARY)\n",
    "    \n",
    "    #binary=gray\n",
    "    \n",
    "    sobelx = cv2.Sobel(binary,-1,1,0,ksize=5)\n",
    "    sobely = cv2.Sobel(binary,-1,0,1,ksize=5)\n",
    "    sobelxy = cv2.Sobel(binary,-1,1,1,ksize=5)    \n",
    "    #print(\"BINARY\")\n",
    "    #plt.imshow(cv2.cvtColor(binary, cv2.COLOR_BGR2RGB))\n",
    "    #plt.show()\n",
    "    #print(\"SOBEL-X\")\n",
    "    #plt.imshow(sobelx,cmap=\"gray\")\n",
    "    #plt.show()\n",
    "    #print(\"SOBEL-Y\")\n",
    "    #plt.imshow(sobely,cmap=\"gray\")\n",
    "    #plt.show()\n",
    "    #print(\"SOBEL-XY\")\n",
    "    #plt.imshow(sobelxy,cmap=\"gray\")\n",
    "    #plt.show()\n",
    "\n",
    "   \n",
    "    return sobelx,sobely,sobelxy"
   ]
  },
  {
   "cell_type": "code",
   "execution_count": 15,
   "id": "42b2358f",
   "metadata": {},
   "outputs": [],
   "source": [
    "img = cv2.imread(\"c3.png\")\n",
    "img = cv2.resize(img, (0,0), fx=2, fy=2) \n",
    "gray = cv2.cvtColor(img, cv2.COLOR_BGR2GRAY)\n",
    "sobelx,sobely,sobelxy=sobel(gray)"
   ]
  },
  {
   "cell_type": "code",
   "execution_count": 16,
   "id": "df8c0bf9",
   "metadata": {},
   "outputs": [],
   "source": [
    "res=cv2.bitwise_and(sobelx,sobely)\n",
    "#plt.imshow(res,cmap=\"gray\")"
   ]
  },
  {
   "cell_type": "code",
   "execution_count": 17,
   "id": "f6f940e8",
   "metadata": {},
   "outputs": [
    {
     "data": {
      "text/plain": [
       "<matplotlib.image.AxesImage at 0x150ef4cd550>"
      ]
     },
     "execution_count": 17,
     "metadata": {},
     "output_type": "execute_result"
    },
    {
     "data": {
      "image/png": "[encoded data removed]",
      "text/plain": [
       "<Figure size 432x288 with 1 Axes>"
      ]
     },
     "metadata": {
      "needs_background": "light"
     },
     "output_type": "display_data"
    }
   ],
   "source": [
    "kernel = np.ones((3,3), np.uint8)\n",
    "img_dilation = cv2.dilate(res, kernel, iterations=1)\n",
    "plt.imshow(img_dilation,cmap='gray')"
   ]
  },
  {
   "cell_type": "code",
   "execution_count": null,
   "id": "2e8faf36",
   "metadata": {},
   "outputs": [],
   "source": []
  },
  {
   "cell_type": "code",
   "execution_count": 18,
   "id": "fa30e3e0",
   "metadata": {},
   "outputs": [
    {
     "data": {
      "text/plain": [
       "True"
      ]
     },
     "execution_count": 18,
     "metadata": {},
     "output_type": "execute_result"
    }
   ],
   "source": [
    "found=[]\n",
    "img_org=img\n",
    "\n",
    "font                   = cv2.FONT_HERSHEY_SIMPLEX\n",
    "fontScale              = 0.4\n",
    "fontColor              = (0,0,255)\n",
    "lineType               = 1\n",
    "\n",
    "for i in range(img_dilation.shape[0]):\n",
    "    for j in range(img_dilation.shape[1]):\n",
    "        if(img_dilation[i][j]>0):\n",
    "            img_org[i][j][0]=255\n",
    "            img_org[i][j][1]=0\n",
    "            img_org[i][j][2]=0\n",
    "            xval=int((i+20)/(img.shape[0]/8))\n",
    "            yval=int((j+20)/(img.shape[1]/8))\n",
    "            \n",
    "            if([xval,yval] not in found):\n",
    "                found.append([xval,yval])\n",
    "                cv2.putText(img_org,f'({xval},{yval})',(i,j),font,fontScale,fontColor,lineType)\n",
    " #               cc+=1\n",
    "#print(cc)\n",
    "                \n",
    "            \n",
    "cv2.imshow('window',img_org)\n",
    "cv2.waitKey(0) \n",
    "cv2.destroyAllWindows()\n",
    "cv2.imwrite('output_userdefined1.jpg',img_org)\n",
    "            \n",
    "# plt.imshow(img_org)\n",
    "# plt.show()"
   ]
  },
  {
   "cell_type": "code",
   "execution_count": 19,
   "id": "c2a56357",
   "metadata": {},
   "outputs": [],
   "source": [
    "## canny and sobel"
   ]
  },
  {
   "cell_type": "code",
   "execution_count": 20,
   "id": "39cdb265",
   "metadata": {},
   "outputs": [
    {
     "data": {
      "image/png": "[encoded data removed]",
      "text/plain": [
       "<Figure size 432x288 with 1 Axes>"
      ]
     },
     "metadata": {
      "needs_background": "light"
     },
     "output_type": "display_data"
    },
    {
     "data": {
      "image/png": "[encoded data removed]",
      "text/plain": [
       "<Figure size 432x288 with 1 Axes>"
      ]
     },
     "metadata": {
      "needs_background": "light"
     },
     "output_type": "display_data"
    }
   ],
   "source": [
    "img = cv2.imread(\"c3.png\")\n",
    "img = cv2.resize(img, (0,0), fx=2, fy=2) \n",
    "img_org2=img\n",
    "gray = cv2.cvtColor(img, cv2.COLOR_BGR2GRAY)\n",
    "ret, binary = cv2.threshold(gray, 127, 255, cv2.THRESH_BINARY)\n",
    "img_edge = cv2.Canny(binary,100,200)\n",
    "plt.imshow(img_edge)\n",
    "plt.show()\n",
    "temp1,temp2,points=sobel(img_edge)\n",
    "plt.imshow(points)\n",
    "plt.show()"
   ]
  },
  {
   "cell_type": "code",
   "execution_count": 21,
   "id": "592ddd5c",
   "metadata": {},
   "outputs": [
    {
     "data": {
      "text/plain": [
       "True"
      ]
     },
     "execution_count": 21,
     "metadata": {},
     "output_type": "execute_result"
    }
   ],
   "source": [
    "found=[]\n",
    "\n",
    "font                   = cv2.FONT_HERSHEY_SIMPLEX\n",
    "fontScale              = 0.4\n",
    "fontColor              = (0,0,255)\n",
    "lineType               = 1\n",
    "\n",
    "for i in range(points.shape[0]):\n",
    "    for j in range(points.shape[1]):\n",
    "        if(points[i][j]>0):\n",
    "            img_org2[i][j][0]=255\n",
    "            img_org2[i][j][1]=0\n",
    "            img_org2[i][j][2]=0\n",
    "            xval=int((i+20)/(img.shape[0]/8))\n",
    "            yval=int((j+20)/(img.shape[1]/8))\n",
    "            \n",
    "            if([xval,yval] not in found):\n",
    "                found.append([xval,yval])\n",
    "                cv2.putText(img_org2,f'({xval},{yval})',(i,j),font,fontScale,fontColor,lineType)\n",
    "                #cc+=1\n",
    "#print(cc)\n",
    "                \n",
    "            \n",
    "cv2.imshow('window',img_org2)\n",
    "cv2.waitKey(0) \n",
    "cv2.destroyAllWindows()\n",
    "cv2.imwrite('output_userdefined2.jpg',img_org2)\n",
    "            \n",
    "# plt.imshow(img_org)\n",
    "# plt.show()"
   ]
  },
  {
   "cell_type": "code",
   "execution_count": 22,
   "id": "804fa715",
   "metadata": {},
   "outputs": [],
   "source": [
    "## Inbuit "
   ]
  },
  {
   "cell_type": "code",
   "execution_count": 23,
   "id": "03c2777a",
   "metadata": {},
   "outputs": [
    {
     "data": {
      "image/png": "[encoded data removed]",
      "text/plain": [
       "<Figure size 432x288 with 3 Axes>"
      ]
     },
     "metadata": {},
     "output_type": "display_data"
    }
   ],
   "source": [
    "img = cv2.imread(\"c3.png\")\n",
    "img = cv2.resize(img, (0,0), fx=2, fy=2) \n",
    "gray = cv2.cvtColor(img, cv2.COLOR_BGR2GRAY)\n",
    "ret, binary = cv2.threshold(gray, 127, 255, cv2.THRESH_BINARY)\n",
    "\n",
    "plt.subplot(131),plt.imshow(cv2.cvtColor(img, cv2.COLOR_BGR2RGB))\n",
    "plt.title('Original Image'), plt.xticks([]), plt.yticks([])\n",
    "plt.subplot(132),plt.imshow(gray, cmap='gray')\n",
    "plt.title('Gray Image'), plt.xticks([]), plt.yticks([])\n",
    "plt.subplot(133),plt.imshow(gray, cmap='gray')\n",
    "plt.title('Binary Image'), plt.xticks([]), plt.yticks([])\n",
    "plt.show()"
   ]
  },
  {
   "cell_type": "code",
   "execution_count": 24,
   "id": "d69c3c62",
   "metadata": {},
   "outputs": [
    {
     "name": "stdout",
     "output_type": "stream",
     "text": [
      "80\n"
     ]
    },
    {
     "data": {
      "text/plain": [
       "True"
      ]
     },
     "execution_count": 24,
     "metadata": {},
     "output_type": "execute_result"
    }
   ],
   "source": [
    "corners = cv2.goodFeaturesToTrack(binary, 81, 0.01, 10) #img,points,quality,distance b/w corner\n",
    "\n",
    "#shi thomasi method\n",
    "# convert corners values to integer\n",
    "# So that we will be able to draw circles on them\n",
    "corners = np.int0(corners)\n",
    "\n",
    "font                   = cv2.FONT_HERSHEY_SIMPLEX\n",
    "fontScale              = .4\n",
    "fontColor              = (0,0,255)\n",
    "lineType               = 1\n",
    "\n",
    "# draw red color circles on all corners\n",
    "ii=0\n",
    "for i in corners:\n",
    "    x, y = i.ravel()\n",
    "    #print(x,y)\n",
    "    cv2.circle(img, (x, y), 3, (255, 0, 0), -1)\n",
    "    cv2.putText(img,f'({int((x+20)/(img.shape[0]/8))},{int((y+20)/(img.shape[1]/8))})',(x,y),font,fontScale,fontColor,lineType)\n",
    "    ii+=1\n",
    "print(ii)\n",
    "  \n",
    "# resulting image\n",
    "# plt.imshow(img)\n",
    "# plt.show()  \n",
    "cv2.imshow('window',img)\n",
    "cv2.waitKey(0) \n",
    "cv2.destroyAllWindows()\n",
    "cv2.imwrite('output_inbuit.jpg',img)"
   ]
  },
  {
   "cell_type": "code",
   "execution_count": null,
   "id": "766f28a5",
   "metadata": {},
   "outputs": [],
   "source": []
  },
  {
   "cell_type": "code",
   "execution_count": null,
   "id": "8ddce039",
   "metadata": {},
   "outputs": [],
   "source": []
  }
 ],
 "metadata": {
  "kernelspec": {
   "display_name": "Python 3",
   "language": "python",
   "name": "python3"
  },
  "language_info": {
   "codemirror_mode": {
    "name": "ipython",
    "version": 3
   },
   "file_extension": ".py",
   "mimetype": "text/x-python",
   "name": "python",
   "nbconvert_exporter": "python",
   "pygments_lexer": "ipython3",
   "version": "3.7.1"
  }
 },
 "nbformat": 4,
 "nbformat_minor": 5
}
