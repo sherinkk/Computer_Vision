{
 "cells": [
  {
   "cell_type": "code",
   "execution_count": 1,
   "id": "4c6877bf",
   "metadata": {},
   "outputs": [],
   "source": [
    "import numpy as np"
   ]
  },
  {
   "cell_type": "code",
   "execution_count": 64,
   "id": "8bd6d8d2",
   "metadata": {},
   "outputs": [],
   "source": [
    "polyB = [1,2,-3,0,0,4,0,-1]\n",
    "polyA = [0,1,1]"
   ]
  },
  {
   "cell_type": "markdown",
   "id": "8684c3c6",
   "metadata": {},
   "source": [
    "rotate window 180 degree"
   ]
  },
  {
   "cell_type": "code",
   "execution_count": 65,
   "id": "0b3959c0",
   "metadata": {},
   "outputs": [],
   "source": [
    "polyB.reverse()"
   ]
  },
  {
   "cell_type": "markdown",
   "id": "724b0ba4",
   "metadata": {},
   "source": [
    "padding polyA\n",
    "\n"
   ]
  },
  {
   "cell_type": "code",
   "execution_count": 66,
   "id": "f25da300",
   "metadata": {},
   "outputs": [],
   "source": [
    "for i in range(1,len(polyB)):\n",
    "    polyA.insert(0,0);\n",
    "\n",
    "for i in range(1,len(polyB)):\n",
    "    polyA.append(0);\n"
   ]
  },
  {
   "cell_type": "code",
   "execution_count": 67,
   "id": "bc3afc1c",
   "metadata": {},
   "outputs": [
    {
     "data": {
      "text/plain": [
       "[0, 0, 0, 0, 0, 0, 0, 0, 1, 1, 0, 0, 0, 0, 0, 0, 0]"
      ]
     },
     "execution_count": 67,
     "metadata": {},
     "output_type": "execute_result"
    }
   ],
   "source": [
    "polyA"
   ]
  },
  {
   "cell_type": "code",
   "execution_count": 68,
   "id": "4dccab7c",
   "metadata": {},
   "outputs": [],
   "source": [
    "ans=[0]*(len(polyA)-len(polyB)+1)\n",
    "\n",
    "for i in range(0,len(polyA)-len(polyB)+1):\n",
    "    for j in range(len(polyB)):\n",
    "        ans[i]+=polyA[i+j]*polyB[j]    \n",
    "    "
   ]
  },
  {
   "cell_type": "code",
   "execution_count": 69,
   "id": "7e1b2191",
   "metadata": {},
   "outputs": [
    {
     "data": {
      "text/plain": [
       "[0, 1, 3, -1, -3, 0, 4, 4, -1, -1]"
      ]
     },
     "execution_count": 69,
     "metadata": {},
     "output_type": "execute_result"
    }
   ],
   "source": [
    "ans"
   ]
  },
  {
   "cell_type": "code",
   "execution_count": null,
   "id": "b0ef06ef",
   "metadata": {},
   "outputs": [],
   "source": []
  },
  {
   "cell_type": "code",
   "execution_count": null,
   "id": "99abe9a3",
   "metadata": {},
   "outputs": [],
   "source": []
  },
  {
   "cell_type": "code",
   "execution_count": null,
   "id": "0ce9c193",
   "metadata": {},
   "outputs": [],
   "source": []
  },
  {
   "cell_type": "code",
   "execution_count": null,
   "id": "bf6141fd",
   "metadata": {},
   "outputs": [],
   "source": []
  }
 ],
 "metadata": {
  "kernelspec": {
   "display_name": "Python 3",
   "language": "python",
   "name": "python3"
  },
  "language_info": {
   "codemirror_mode": {
    "name": "ipython",
    "version": 3
   },
   "file_extension": ".py",
   "mimetype": "text/x-python",
   "name": "python",
   "nbconvert_exporter": "python",
   "pygments_lexer": "ipython3",
   "version": "3.7.1"
  }
 },
 "nbformat": 4,
 "nbformat_minor": 5
}
